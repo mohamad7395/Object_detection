{
 "cells": [
  {
   "cell_type": "code",
   "execution_count": 9,
   "id": "48a69a0b",
   "metadata": {},
   "outputs": [],
   "source": [
    "import matplotlib.pyplot as plt\n",
    "\n",
    "import torch\n",
    "from torchvision import datasets, transforms\n",
    "\n",
    "transform = transforms.Compose([transforms.Resize(90),\n",
    "                                 transforms.ToTensor()])\n",
    "dataset = datasets.ImageFolder('/Users/mohamad/python-workspace/lab/extract_img/tr_pic', transform=transform)\n",
    "\n",
    "\n",
    "dataloader = torch.utils.data.DataLoader(dataset, batch_size=32, shuffle=True)"
   ]
  },
  {
   "cell_type": "code",
   "execution_count": 10,
   "id": "1d70331f",
   "metadata": {},
   "outputs": [],
   "source": [
    "for images in dataloader:\n",
    "    input_1 = images\n",
    "    pass\n",
    "\n",
    "# Get one batch\n",
    "\n"
   ]
  },
  {
   "cell_type": "code",
   "execution_count": 11,
   "id": "1ea642dc",
   "metadata": {},
   "outputs": [
    {
     "data": {
      "text/plain": [
       "torch.Size([2, 3, 160, 90])"
      ]
     },
     "execution_count": 11,
     "metadata": {},
     "output_type": "execute_result"
    }
   ],
   "source": [
    "input_1[0].shape\n"
   ]
  },
  {
   "cell_type": "code",
   "execution_count": 2,
   "id": "264b9b51",
   "metadata": {},
   "outputs": [],
   "source": [
    "\n",
    "import torch, torchvision\n",
    "from torch import nn\n",
    "from torch import optim\n",
    "from torchvision.transforms import ToTensor\n",
    "import torch.nn.functional as F\n",
    "import matplotlib.pyplot as plt\n",
    "import requests\n",
    "from PIL import Image\n",
    "from io import BytesIO\n",
    "\n",
    "import copy\n",
    "from sklearn.metrics import confusion_matrix\n",
    "import pandas as pd\n",
    "import numpy as np\n",
    "\n",
    "numb_batch = 64\n",
    "\n",
    "\n",
    "T = torchvision.transforms.Compose([\n",
    "    torchvision.transforms.ToTensor()\n",
    "])\n",
    "train_data = torchvision.datasets.MNIST('mnist_data', train=True, download=True, transform=T)\n",
    "val_data = torchvision.datasets.MNIST('mnist_data', train=False, download=True, transform=T)\n",
    "\n",
    "train_dl = torch.utils.data.DataLoader(train_data, batch_size = numb_batch)\n",
    "val_dl = torch.utils.data.DataLoader(val_data, batch_size = numb_batch)\n"
   ]
  },
  {
   "cell_type": "code",
   "execution_count": 3,
   "id": "137f2ecb",
   "metadata": {},
   "outputs": [
    {
     "data": {
      "text/plain": [
       "Dataset MNIST\n",
       "    Number of datapoints: 60000\n",
       "    Root location: mnist_data\n",
       "    Split: Train\n",
       "    StandardTransform\n",
       "Transform: Compose(\n",
       "               ToTensor()\n",
       "           )"
      ]
     },
     "execution_count": 3,
     "metadata": {},
     "output_type": "execute_result"
    }
   ],
   "source": [
    "train_data"
   ]
  },
  {
   "cell_type": "code",
   "execution_count": 14,
   "id": "f9c49db8",
   "metadata": {},
   "outputs": [],
   "source": [
    "import torch, torchvision\n",
    "from torch import nn\n",
    "from torch import optim\n",
    "from torchvision.transforms import ToTensor\n",
    "import torch.nn.functional as F\n",
    "import matplotlib.pyplot as plt\n",
    "import requests\n",
    "from PIL import Image\n",
    "from io import BytesIO\n",
    "\n",
    "import copy\n",
    "from sklearn.metrics import confusion_matrix\n",
    "import pandas as pd\n",
    "import numpy as np\n"
   ]
  },
  {
   "cell_type": "code",
   "execution_count": 15,
   "id": "d1d2ceaf",
   "metadata": {},
   "outputs": [
    {
     "data": {
      "text/plain": [
       "Sequential(\n",
       "  (0): Conv2d(3, 32, kernel_size=(3, 3), stride=(1, 1), padding=(1, 1))\n",
       "  (1): ReLU()\n",
       "  (2): AvgPool2d(kernel_size=2, stride=2, padding=0)\n",
       "  (3): Conv2d(32, 64, kernel_size=(3, 3), stride=(1, 1), padding=(1, 1))\n",
       "  (4): ReLU()\n",
       "  (5): AvgPool2d(kernel_size=2, stride=2, padding=0)\n",
       "  (6): Flatten(start_dim=1, end_dim=-1)\n",
       "  (7): Linear(in_features=400, out_features=120, bias=True)\n",
       "  (8): ReLU()\n",
       "  (9): Linear(in_features=120, out_features=84, bias=True)\n",
       "  (10): ReLU()\n",
       "  (11): Linear(in_features=84, out_features=1, bias=True)\n",
       ")"
      ]
     },
     "execution_count": 15,
     "metadata": {},
     "output_type": "execute_result"
    }
   ],
   "source": [
    "def create_lenet():\n",
    "    model = nn.Sequential(\n",
    "        nn.Conv2d(3, 32, 3, padding=1),\n",
    "        nn.ReLU(),\n",
    "        nn.AvgPool2d(2, stride=2),\n",
    "        nn.Conv2d(32, 64, 3, padding=1),\n",
    "        nn.ReLU(),\n",
    "        nn.AvgPool2d(2, stride=2),\n",
    "        nn.Flatten(),\n",
    "        nn.Linear(400, 120),\n",
    "        nn.ReLU(),\n",
    "        nn.Linear(120, 84),\n",
    "        nn.ReLU(),\n",
    "        nn.Linear(84, 1)\n",
    "    )\n",
    "    return model\n",
    "\n",
    "\n",
    "def validate(model, data):\n",
    "    total = 0\n",
    "    correct = 0\n",
    "    for i, (images, labels) in enumerate(data):\n",
    "        images = images.cpu()\n",
    "        x = model(images)\n",
    "        value, pred = torch.max(x,1)\n",
    "        pred = pred.data.cpu()\n",
    "        total += x.size(0)\n",
    "        correct += torch.sum(pred == labels)\n",
    "    return correct*100./total\n",
    "\n",
    "\n",
    "def train(numb_epoch=3, lr=1e-3, device=\"cpu\"):\n",
    "    accuracies = []\n",
    "    cnn = create_lenet().to(device)\n",
    "    cec = nn.CrossEntropyLoss()\n",
    "    optimizer = optim.Adam(cnn.parameters(), lr=lr)\n",
    "    max_accuracy = 0\n",
    "    for epoch in range(numb_epoch):\n",
    "        for i, (images, labels) in enumerate(train_dl):\n",
    "            images = images.to(device)\n",
    "            labels = labels.to(device)\n",
    "            optimizer.zero_grad()\n",
    "            pred = cnn(images)\n",
    "            loss = cec(pred, labels)\n",
    "            loss.backward()\n",
    "            optimizer.step()\n",
    "        accuracy = float(validate(cnn, val_dl))\n",
    "        accuracies.append(accuracy)\n",
    "        if accuracy > max_accuracy:\n",
    "            best_model = copy.deepcopy(cnn)\n",
    "            max_accuracy = accuracy\n",
    "            print(\"Saving Best Model with Accuracy: \", accuracy)\n",
    "        print('Epoch:', epoch+1, \"Accuracy :\", accuracy, '%')\n",
    "    plt.plot(accuracies)\n",
    "    return best_model\n",
    "\n",
    "if torch.cuda.is_available():\n",
    "    device = torch.device(\"cuda:0\")\n",
    "else:\n",
    "    device = torch.device(\"cpu\")\n",
    "    print(\"No Cuda Available\")\n",
    "device\n",
    "\n"
   ]
  },
  {
   "cell_type": "code",
   "execution_count": 5,
   "id": "eabf0654",
   "metadata": {},
   "outputs": [
    {
     "name": "stdout",
     "output_type": "stream",
     "text": [
      "Saving Best Model with Accuracy:  94.37000274658203\n",
      "Epoch: 1 Accuracy : 94.37000274658203 %\n",
      "Saving Best Model with Accuracy:  95.87000274658203\n",
      "Epoch: 2 Accuracy : 95.87000274658203 %\n",
      "Saving Best Model with Accuracy:  97.22000122070312\n",
      "Epoch: 3 Accuracy : 97.22000122070312 %\n",
      "Saving Best Model with Accuracy:  97.88999938964844\n",
      "Epoch: 4 Accuracy : 97.88999938964844 %\n",
      "Saving Best Model with Accuracy:  98.5199966430664\n",
      "Epoch: 5 Accuracy : 98.5199966430664 %\n",
      "Saving Best Model with Accuracy:  98.66999816894531\n",
      "Epoch: 6 Accuracy : 98.66999816894531 %\n",
      "Epoch: 7 Accuracy : 98.5 %\n",
      "Saving Best Model with Accuracy:  98.75\n",
      "Epoch: 8 Accuracy : 98.75 %\n",
      "Epoch: 9 Accuracy : 98.7300033569336 %\n",
      "Epoch: 10 Accuracy : 98.58000183105469 %\n",
      "Epoch: 11 Accuracy : 98.63999938964844 %\n",
      "Epoch: 12 Accuracy : 98.7300033569336 %\n",
      "Saving Best Model with Accuracy:  98.87000274658203\n",
      "Epoch: 13 Accuracy : 98.87000274658203 %\n",
      "Epoch: 14 Accuracy : 98.80000305175781 %\n",
      "Epoch: 15 Accuracy : 98.77999877929688 %\n",
      "Epoch: 16 Accuracy : 98.76000213623047 %\n",
      "Epoch: 17 Accuracy : 98.69000244140625 %\n",
      "Saving Best Model with Accuracy:  98.91000366210938\n",
      "Epoch: 18 Accuracy : 98.91000366210938 %\n",
      "Saving Best Model with Accuracy:  98.91999816894531\n",
      "Epoch: 19 Accuracy : 98.91999816894531 %\n",
      "Saving Best Model with Accuracy:  98.9800033569336\n",
      "Epoch: 20 Accuracy : 98.9800033569336 %\n",
      "Epoch: 21 Accuracy : 98.73999786376953 %\n",
      "Epoch: 22 Accuracy : 98.7699966430664 %\n",
      "Epoch: 23 Accuracy : 98.70999908447266 %\n",
      "Epoch: 24 Accuracy : 98.70999908447266 %\n",
      "Epoch: 25 Accuracy : 98.80999755859375 %\n",
      "Epoch: 26 Accuracy : 98.94000244140625 %\n",
      "Epoch: 27 Accuracy : 98.62999725341797 %\n",
      "Epoch: 28 Accuracy : 98.7699966430664 %\n",
      "Epoch: 29 Accuracy : 98.4800033569336 %\n",
      "Saving Best Model with Accuracy:  99.02999877929688\n",
      "Epoch: 30 Accuracy : 99.02999877929688 %\n",
      "Epoch: 31 Accuracy : 98.97000122070312 %\n",
      "Epoch: 32 Accuracy : 98.88999938964844 %\n",
      "Epoch: 33 Accuracy : 98.88999938964844 %\n",
      "Epoch: 34 Accuracy : 98.86000061035156 %\n",
      "Epoch: 35 Accuracy : 98.8499984741211 %\n",
      "Epoch: 36 Accuracy : 98.81999969482422 %\n",
      "Epoch: 37 Accuracy : 99.01000213623047 %\n",
      "Epoch: 38 Accuracy : 98.83000183105469 %\n",
      "Epoch: 39 Accuracy : 98.94000244140625 %\n",
      "Epoch: 40 Accuracy : 98.8499984741211 %\n"
     ]
    },
    {
     "data": {
      "image/png": "[encoded data removed]",
      "text/plain": [
       "<Figure size 432x288 with 1 Axes>"
      ]
     },
     "metadata": {
      "needs_background": "light"
     },
     "output_type": "display_data"
    }
   ],
   "source": [
    "lenet = train(40, device=device)\n"
   ]
  },
  {
   "cell_type": "code",
   "execution_count": null,
   "id": "63ac1173",
   "metadata": {},
   "outputs": [],
   "source": []
  }
 ],
 "metadata": {
  "kernelspec": {
   "display_name": "Python 3 (ipykernel)",
   "language": "python",
   "name": "python3"
  },
  "language_info": {
   "codemirror_mode": {
    "name": "ipython",
    "version": 3
   },
   "file_extension": ".py",
   "mimetype": "text/x-python",
   "name": "python",
   "nbconvert_exporter": "python",
   "pygments_lexer": "ipython3",
   "version": "3.9.12"
  }
 },
 "nbformat": 4,
 "nbformat_minor": 5
}
