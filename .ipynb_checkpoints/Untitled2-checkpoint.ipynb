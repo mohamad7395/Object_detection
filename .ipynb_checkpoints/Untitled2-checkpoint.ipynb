{
 "cells": [
  {
   "cell_type": "code",
   "execution_count": 30,
   "id": "0e29342d",
   "metadata": {},
   "outputs": [],
   "source": [
    "import torchvision.transforms as T\n",
    "import cv2\n",
    "import torch\n",
    "import skimage.io\n",
    "transform = T.Compose([\n",
    "                       T.ToTensor(),\n",
    "                      T.Resize(90)])\n",
    "image = skimage.io.imread('/Users/mohamad/python-workspace/lab/extract_img/tr_pic/train/0/1.jpg' )"
   ]
  },
  {
   "cell_type": "code",
   "execution_count": 28,
   "id": "01cb4092",
   "metadata": {},
   "outputs": [],
   "source": [
    "image = transform(image)"
   ]
  },
  {
   "cell_type": "code",
   "execution_count": 32,
   "id": "6b158b8c",
   "metadata": {},
   "outputs": [
    {
     "data": {
      "text/plain": [
       "(160, 90, 3)"
      ]
     },
     "execution_count": 32,
     "metadata": {},
     "output_type": "execute_result"
    }
   ],
   "source": [
    "image.shape\n"
   ]
  },
  {
   "cell_type": "code",
   "execution_count": 31,
   "id": "0a659135",
   "metadata": {},
   "outputs": [],
   "source": [
    "image = cv2.resize(image, (90,160), interpolation = cv2.INTER_AREA)"
   ]
  },
  {
   "cell_type": "code",
   "execution_count": null,
   "id": "0b62c316",
   "metadata": {},
   "outputs": [],
   "source": []
  },
  {
   "cell_type": "code",
   "execution_count": null,
   "id": "da10c7af",
   "metadata": {},
   "outputs": [],
   "source": []
  }
 ],
 "metadata": {
  "kernelspec": {
   "display_name": "Python 3 (ipykernel)",
   "language": "python",
   "name": "python3"
  },
  "language_info": {
   "codemirror_mode": {
    "name": "ipython",
    "version": 3
   },
   "file_extension": ".py",
   "mimetype": "text/x-python",
   "name": "python",
   "nbconvert_exporter": "python",
   "pygments_lexer": "ipython3",
   "version": "3.9.12"
  }
 },
 "nbformat": 4,
 "nbformat_minor": 5
}
